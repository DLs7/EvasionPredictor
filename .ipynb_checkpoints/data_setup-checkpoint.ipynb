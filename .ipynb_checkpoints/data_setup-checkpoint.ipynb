{
 "cells": [
  {
   "cell_type": "markdown",
   "metadata": {},
   "source": [
    "# Algorithm for data setup\n",
    "The purpose of the algorithm bellow is to normalize the inserted .csv file and return 2 new .csv files. One is for training and the other for test."
   ]
  },
  {
   "cell_type": "markdown",
   "metadata": {},
   "source": [
    "## Importing data\n",
    "The code down below imports and cleans the data from a csv."
   ]
  },
  {
   "cell_type": "code",
   "execution_count": 1,
   "metadata": {},
   "outputs": [],
   "source": [
    "import pandas as pd\n",
    "import numpy as np\n",
    "from sklearn.model_selection import train_test_split"
   ]
  },
  {
   "cell_type": "code",
   "execution_count": 2,
   "metadata": {},
   "outputs": [],
   "source": [
    "dataFrame = pd.read_csv(\"Evadidos_concluintes_307.csv\", sep=',')\n",
    "file = open(\"Evadidos_concluintes_307.csv\", \"r\")"
   ]
  },
  {
   "cell_type": "code",
   "execution_count": 3,
   "metadata": {},
   "outputs": [],
   "source": [
    "#apaga as seguintes colunas\n",
    "dataFrame.drop(['COD_CURSO'], axis=1, inplace=True)\n",
    "dataFrame.drop(['NOME_CURSO'], axis=1, inplace=True)\n",
    "dataFrame.drop(['ID_TURMA'], axis=1, inplace=True)\n",
    "dataFrame.drop(['ID_DISCIPLINA'], axis=1, inplace=True)"
   ]
  },
  {
   "cell_type": "code",
   "execution_count": 4,
   "metadata": {
    "scrolled": true
   },
   "outputs": [],
   "source": [
    "dataFrame = dataFrame.sort_values(by=[\"ANO_INGRESSO\", \"ID_CURSO_ALUNO\"])"
   ]
  },
  {
   "cell_type": "code",
   "execution_count": 5,
   "metadata": {},
   "outputs": [],
   "source": [
    "#retira os espaços no inicio e final da string\n",
    "dataFrame[\"COD_DISCIPLINA\"] = dataFrame[\"COD_DISCIPLINA\"].str.strip()\n",
    "#transforma floats como 1.992 em numeros inteiros (1992)\n",
    "dataFrame[\"ID_CURSO_ALUNO\"] = round(dataFrame[\"ID_CURSO_ALUNO\"]*1000)\n",
    "dataFrame[\"ANO_INGRESSO\"] = round(dataFrame[\"ANO_INGRESSO\"]*1000)\n",
    "dataFrame[\"ANO_CONC_DISC\"] = round(dataFrame[\"ANO_CONC_DISC\"]*1000)\n",
    "dataFrame[\"ANO_EVASAO\"] = round(dataFrame[\"ANO_EVASAO\"]*1000)"
   ]
  },
  {
   "cell_type": "code",
   "execution_count": 6,
   "metadata": {},
   "outputs": [],
   "source": [
    "#substitui itens iguais a 4 por \"Formou\" e itens diferentes de 4 por \"NaoFormou\"\n",
    "dataFrame[\"FORMA_EVASAO_ITEM\"] = np.where(dataFrame[\"FORMA_EVASAO_ITEM\"] == 4, 'Formou', 'NaoFormou')"
   ]
  },
  {
   "cell_type": "code",
   "execution_count": 7,
   "metadata": {
    "scrolled": true
   },
   "outputs": [
    {
     "data": {
      "text/html": [
       "<div>\n",
       "<style scoped>\n",
       "    .dataframe tbody tr th:only-of-type {\n",
       "        vertical-align: middle;\n",
       "    }\n",
       "\n",
       "    .dataframe tbody tr th {\n",
       "        vertical-align: top;\n",
       "    }\n",
       "\n",
       "    .dataframe thead th {\n",
       "        text-align: right;\n",
       "    }\n",
       "</style>\n",
       "<table border=\"1\" class=\"dataframe\">\n",
       "  <thead>\n",
       "    <tr style=\"text-align: right;\">\n",
       "      <th></th>\n",
       "      <th>ANO_INGRESSO</th>\n",
       "      <th>PERIODO_INGRESSO</th>\n",
       "      <th>ID_CURSO_ALUNO</th>\n",
       "      <th>COD_DISCIPLINA</th>\n",
       "      <th>ANO_CONC_DISC</th>\n",
       "      <th>PERIODO_CONC_DISC</th>\n",
       "      <th>PERIODO_IDEAL</th>\n",
       "      <th>FORMA_EVASAO_ITEM</th>\n",
       "      <th>ANO_EVASAO</th>\n",
       "      <th>PERIODO_EVASAO</th>\n",
       "    </tr>\n",
       "  </thead>\n",
       "  <tbody>\n",
       "    <tr>\n",
       "      <th>0</th>\n",
       "      <td>1992.0</td>\n",
       "      <td>1</td>\n",
       "      <td>34506.0</td>\n",
       "      <td>ELC104</td>\n",
       "      <td>1992.0</td>\n",
       "      <td>1</td>\n",
       "      <td>1</td>\n",
       "      <td>Formou</td>\n",
       "      <td>1997.0</td>\n",
       "      <td>2</td>\n",
       "    </tr>\n",
       "    <tr>\n",
       "      <th>1</th>\n",
       "      <td>1992.0</td>\n",
       "      <td>1</td>\n",
       "      <td>34506.0</td>\n",
       "      <td>ELC105</td>\n",
       "      <td>1992.0</td>\n",
       "      <td>1</td>\n",
       "      <td>1</td>\n",
       "      <td>Formou</td>\n",
       "      <td>1997.0</td>\n",
       "      <td>2</td>\n",
       "    </tr>\n",
       "    <tr>\n",
       "      <th>2</th>\n",
       "      <td>1992.0</td>\n",
       "      <td>1</td>\n",
       "      <td>34506.0</td>\n",
       "      <td>LTE222</td>\n",
       "      <td>1992.0</td>\n",
       "      <td>1</td>\n",
       "      <td>1</td>\n",
       "      <td>Formou</td>\n",
       "      <td>1997.0</td>\n",
       "      <td>2</td>\n",
       "    </tr>\n",
       "    <tr>\n",
       "      <th>3</th>\n",
       "      <td>1992.0</td>\n",
       "      <td>1</td>\n",
       "      <td>34506.0</td>\n",
       "      <td>MTM101</td>\n",
       "      <td>1992.0</td>\n",
       "      <td>1</td>\n",
       "      <td>1</td>\n",
       "      <td>Formou</td>\n",
       "      <td>1997.0</td>\n",
       "      <td>2</td>\n",
       "    </tr>\n",
       "    <tr>\n",
       "      <th>4</th>\n",
       "      <td>1992.0</td>\n",
       "      <td>1</td>\n",
       "      <td>34506.0</td>\n",
       "      <td>MTM144</td>\n",
       "      <td>1992.0</td>\n",
       "      <td>1</td>\n",
       "      <td>1</td>\n",
       "      <td>Formou</td>\n",
       "      <td>1997.0</td>\n",
       "      <td>2</td>\n",
       "    </tr>\n",
       "  </tbody>\n",
       "</table>\n",
       "</div>"
      ],
      "text/plain": [
       "   ANO_INGRESSO  PERIODO_INGRESSO  ID_CURSO_ALUNO COD_DISCIPLINA  \\\n",
       "0        1992.0                 1         34506.0         ELC104   \n",
       "1        1992.0                 1         34506.0         ELC105   \n",
       "2        1992.0                 1         34506.0         LTE222   \n",
       "3        1992.0                 1         34506.0         MTM101   \n",
       "4        1992.0                 1         34506.0         MTM144   \n",
       "\n",
       "   ANO_CONC_DISC  PERIODO_CONC_DISC  PERIODO_IDEAL FORMA_EVASAO_ITEM  \\\n",
       "0         1992.0                  1              1            Formou   \n",
       "1         1992.0                  1              1            Formou   \n",
       "2         1992.0                  1              1            Formou   \n",
       "3         1992.0                  1              1            Formou   \n",
       "4         1992.0                  1              1            Formou   \n",
       "\n",
       "   ANO_EVASAO  PERIODO_EVASAO  \n",
       "0      1997.0               2  \n",
       "1      1997.0               2  \n",
       "2      1997.0               2  \n",
       "3      1997.0               2  \n",
       "4      1997.0               2  "
      ]
     },
     "execution_count": 7,
     "metadata": {},
     "output_type": "execute_result"
    }
   ],
   "source": [
    "dataFrame.head()"
   ]
  },
  {
   "cell_type": "markdown",
   "metadata": {},
   "source": [
    "## Normalizing data\n",
    "The code down below separates the data into three dictionaries:\n",
    "- disciplina (**COD_DISCIPLINA**, PERIODO_IDEAL)\n",
    "- aluno (**ID_CURSO_ALUNO**, ANO_INGRESSO, PERIODO_INGRESSO, ANO_EVASAO, PERIODO_EVASAO, FORMA_EVASAO_ITEM,)\n",
    "- conclusao (**COD_DISCIPLINA**, **ID_CURSO_ALUNO**, PERIODO_CONC_DISC, ANO_CONC_DISC)"
   ]
  },
  {
   "cell_type": "code",
   "execution_count": 8,
   "metadata": {},
   "outputs": [],
   "source": [
    "#faz uma lista com todas as disciplinas\n",
    "disciplina = []\n",
    "for codigoDisciplina in dataFrame[\"COD_DISCIPLINA\"]:\n",
    "    if (codigoDisciplina not in disciplina):\n",
    "        disciplina.append(codigoDisciplina)"
   ]
  },
  {
   "cell_type": "code",
   "execution_count": null,
   "metadata": {},
   "outputs": [],
   "source": [
    "#faz um hash com entrada ID_CURSO_ALUNO e saídas mostradas abaixo\n",
    "aluno = {}\n",
    "for codigoAluno, anoIngresso, periodoIngresso, anoEvasao, periodoEvasao, tipoEvasao in zip(dataFrame[\"ID_CURSO_ALUNO\"], dataFrame[\"ANO_INGRESSO\"], dataFrame[\"PERIODO_INGRESSO\"], dataFrame[\"ANO_EVASAO\"], dataFrame[\"PERIODO_EVASAO\"], dataFrame[\"FORMA_EVASAO_ITEM\"]):\n",
    "    aluno[codigoAluno] = [anoIngresso, periodoIngresso, anoEvasao, periodoEvasao, tipoEvasao]"
   ]
  },
  {
   "cell_type": "code",
   "execution_count": null,
   "metadata": {},
   "outputs": [],
   "source": [
    "disciplinasCursadasPorAluno = {}\n",
    "for codigoAluno in dataFrame[\"ID_CURSO_ALUNO\"]:\n",
    "    disciplinasCursadasPorAluno[codigoAluno] = []\n",
    "    for codigoDisciplina in dataFrame[\"COD_DISCIPLINA\"].loc[dataFrame[\"ID_CURSO_ALUNO\"] == codigoAluno]:    \n",
    "        disciplinasCursadasPorAluno[codigoAluno].append(codigoDisciplina)"
   ]
  },
  {
   "cell_type": "code",
   "execution_count": null,
   "metadata": {},
   "outputs": [],
   "source": [
    "#faz um hash com entradas ID_CURSO_ALUNO e COD_DISCIPLINA e saídas mostradas abaixo\n",
    "conclusao = {}\n",
    "for codigoAluno in dataFrame[\"ID_CURSO_ALUNO\"]:\n",
    "    conclusao[codigoAluno] = {} \n",
    "    for codigoDisciplina, periodoConclusao, anoConclusao in zip(dataFrame[\"COD_DISCIPLINA\"].loc[dataFrame[\"ID_CURSO_ALUNO\"] == codigoAluno], dataFrame[\"PERIODO_CONC_DISC\"].loc[dataFrame[\"ID_CURSO_ALUNO\"] == codigoAluno], dataFrame[\"ANO_CONC_DISC\"].loc[dataFrame[\"ID_CURSO_ALUNO\"] == codigoAluno]):\n",
    "        conclusao[codigoAluno][codigoDisciplina] = [anoConclusao, periodoConclusao]"
   ]
  },
  {
   "cell_type": "code",
   "execution_count": null,
   "metadata": {},
   "outputs": [],
   "source": [
    "#disciplina"
   ]
  },
  {
   "cell_type": "code",
   "execution_count": null,
   "metadata": {},
   "outputs": [],
   "source": [
    "#aluno"
   ]
  },
  {
   "cell_type": "code",
   "execution_count": null,
   "metadata": {},
   "outputs": [],
   "source": [
    "#disciplinasCursadasPorAluno"
   ]
  },
  {
   "cell_type": "code",
   "execution_count": null,
   "metadata": {},
   "outputs": [],
   "source": [
    "#conclusao"
   ]
  },
  {
   "cell_type": "markdown",
   "metadata": {},
   "source": [
    "## Creating new DataFrame\n",
    "The code down below uses the dictionaries created above to make a new DataFrame that uses the student identification (*ID_CURSO_ALUNO*) as ID and transforms each subject (*disciplina*) in one column."
   ]
  },
  {
   "cell_type": "code",
   "execution_count": null,
   "metadata": {
    "scrolled": true
   },
   "outputs": [],
   "source": [
    "#A primeira coisa a ser feita é criar um dataframe com o codigo do aluno como identificador\n",
    "newDataFrame = pd.DataFrame(aluno.values(), columns=[\"ANO_INGRESSO\", \"PERIODO_INGRESSO\", \"ANO_EVASAO\", \"PERIODO_EVASAO\", \"FORMA_EVASAO_ITEM\"])\n",
    "newDataFrame.insert(0, \"ID_CURSO_ALUNO\", aluno.keys())\n",
    "for i in disciplina:\n",
    "    newDataFrame[i] = np.nan"
   ]
  },
  {
   "cell_type": "code",
   "execution_count": null,
   "metadata": {},
   "outputs": [],
   "source": [
    "def studentConclusionSemester(codigoAluno, codigoDisciplina):    \n",
    "    #se periodos de conclusão e ingresso forem iguais\n",
    "    if conclusao[codigoAluno][codigoDisciplina][1] >= aluno[codigoAluno][1]:\n",
    "        #(ano de conclusão - ano de ingresso)*2 + (periodo de conclusão - periodo de ingresso) + 1\n",
    "        return (conclusao[codigoAluno][codigoDisciplina][0] - aluno[codigoAluno][0]) * 2 + aluno[codigoAluno][1] - conclusao[codigoAluno][codigoDisciplina][1] + 1\n",
    "    #se periodo de conclusao for menor que de ingresso\n",
    "    elif conclusao[codigoAluno][codigoDisciplina][1] < aluno[codigoAluno][1]:    \n",
    "        #(ano de conclusão - ano de ingresso)*2\n",
    "        return (conclusao[codigoAluno][codigoDisciplina][0] - aluno[codigoAluno][0]) * 2"
   ]
  },
  {
   "cell_type": "markdown",
   "metadata": {},
   "source": [
    "### Subject conclusion mesure\n",
    "The function below sets difference between the conclusion semester and the ingress student semester."
   ]
  },
  {
   "cell_type": "code",
   "execution_count": null,
   "metadata": {},
   "outputs": [],
   "source": [
    "def differenceBetweenIdealAndConclusionSemesters(codigoAluno, codigoDisciplina):\n",
    "    if conclusao.get(codigoAluno) == None:\n",
    "        return np.nan\n",
    "    elif conclusao[codigoAluno].get(codigoDisciplina) == None:\n",
    "        return np.nan\n",
    "    else:\n",
    "        periodoIdeal = dataFrame[\"PERIODO_IDEAL\"].loc[(dataFrame[\"ID_CURSO_ALUNO\"] == codigoAluno) & (dataFrame[\"COD_DISCIPLINA\"] == codigoDisciplina)].get_values()\n",
    "        if periodoIdeal[0] == 99:\n",
    "            return 0\n",
    "        return periodoIdeal[0] - studentConclusionSemester(codigoAluno, codigoDisciplina)"
   ]
  },
  {
   "cell_type": "code",
   "execution_count": null,
   "metadata": {},
   "outputs": [],
   "source": [
    "for codigoAluno in newDataFrame[\"ID_CURSO_ALUNO\"]:\n",
    "    for codigoDisciplina in disciplinasCursadasPorAluno[codigoAluno]:\n",
    "        newDataFrame.loc[newDataFrame[\"ID_CURSO_ALUNO\"] == codigoAluno, codigoDisciplina] = differenceBetweenIdealAndConclusionSemesters(codigoAluno, codigoDisciplina)"
   ]
  },
  {
   "cell_type": "code",
   "execution_count": null,
   "metadata": {},
   "outputs": [],
   "source": [
    "newDataFrame = newDataFrame.sort_values(by=[\"ANO_INGRESSO\", \"ID_CURSO_ALUNO\"])"
   ]
  },
  {
   "cell_type": "code",
   "execution_count": null,
   "metadata": {
    "scrolled": true
   },
   "outputs": [],
   "source": [
    "newDataFrame.head()"
   ]
  },
  {
   "cell_type": "code",
   "execution_count": null,
   "metadata": {},
   "outputs": [],
   "source": [
    "#train, test = train_test_split(newDataFrame)"
   ]
  },
  {
   "cell_type": "code",
   "execution_count": null,
   "metadata": {},
   "outputs": [],
   "source": [
    "newDataFrame.to_csv(\"new_data_frame.csv\", index = False)"
   ]
  }
 ],
 "metadata": {
  "kernelspec": {
   "display_name": "Python 3",
   "language": "python",
   "name": "python3"
  },
  "language_info": {
   "codemirror_mode": {
    "name": "ipython",
    "version": 3
   },
   "file_extension": ".py",
   "mimetype": "text/x-python",
   "name": "python",
   "nbconvert_exporter": "python",
   "pygments_lexer": "ipython3",
   "version": "3.6.8"
  }
 },
 "nbformat": 4,
 "nbformat_minor": 2
}
